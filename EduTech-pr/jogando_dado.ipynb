{
  "nbformat": 4,
  "nbformat_minor": 0,
  "metadata": {
    "colab": {
      "name": "jogando_dado.ipynb",
      "provenance": [],
      "toc_visible": true,
      "authorship_tag": "ABX9TyPDgzUpHeyEMKNnxBtR+q49",
      "include_colab_link": true
    },
    "kernelspec": {
      "name": "python3",
      "display_name": "Python 3"
    },
    "language_info": {
      "name": "python"
    }
  },
  "cells": [
    {
      "cell_type": "markdown",
      "metadata": {
        "id": "view-in-github",
        "colab_type": "text"
      },
      "source": [
        "<a href=\"https://colab.research.google.com/github/MatheusPaulinoH/jogando_dado/blob/main/EduTech-pr/jogando_dado.ipynb\" target=\"_parent\"><img src=\"https://colab.research.google.com/assets/colab-badge.svg\" alt=\"Open In Colab\"/></a>"
      ]
    },
    {
      "cell_type": "code",
      "metadata": {
        "id": "HSCMfAtkbWzx"
      },
      "source": [
        "import random "
      ],
      "execution_count": 1,
      "outputs": []
    },
    {
      "cell_type": "code",
      "metadata": {
        "colab": {
          "base_uri": "https://localhost:8080/"
        },
        "id": "p326opbhbj-L",
        "outputId": "eb7af81f-0b1e-4ead-e8a3-9b65240e30dc"
      },
      "source": [
        "def sim_ou_nao():\n",
        "  jogar = input('Gostaria de jogar o dado? : ')\n",
        "  if jogar == \"sim\":\n",
        "    print(random.randrange(1, 7)) \n",
        "  if jogar == \"nao\":\n",
        "    print(\"Então até logo\")\n",
        "\n",
        "\n",
        "sim_ou_nao()\n",
        "\n",
        "\n",
        "   \n",
        "   \n",
        "      \n"
      ],
      "execution_count": 71,
      "outputs": [
        {
          "output_type": "stream",
          "name": "stdout",
          "text": [
            "Gostaria de jogar o dado? : sim\n",
            "4\n"
          ]
        }
      ]
    },
    {
      "cell_type": "code",
      "metadata": {
        "id": "-T5OysGlui0a"
      },
      "source": [
        ""
      ],
      "execution_count": null,
      "outputs": []
    }
  ]
}